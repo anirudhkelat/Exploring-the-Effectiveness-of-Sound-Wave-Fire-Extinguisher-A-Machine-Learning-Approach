{
 "cells": [
  {
   "cell_type": "markdown",
   "id": "3f0aa293",
   "metadata": {},
   "source": []
  },
  {
   "cell_type": "markdown",
   "id": "2ffacbd5",
   "metadata": {},
   "source": []
  },
  {
   "cell_type": "markdown",
   "id": "b1de5fbd",
   "metadata": {},
   "source": []
  },
  {
   "cell_type": "markdown",
   "id": "1ee3168d",
   "metadata": {},
   "source": [
    "# Title: Predicting Fire Extinguishing Success with Sound Wave Technology"
   ]
  },
  {
   "cell_type": "markdown",
   "id": "c82a13af",
   "metadata": {},
   "source": [
    "## Problem Statment :\n",
    "\n",
    "### To develop a cutting-edge fire extinguisher that leverages sound waves as the primary mechanism for extinguishing fires. The motivation behind this innovation is to create a fire suppression device that is exceptionally safe, reliable, and can effectively combat various fire scenarios. Prior to its release, it is crucial to assess and predict the performance of the sound wave-based fire extinguisher across different types of fires to ensure its widespread trust and adoption by the public."
   ]
  },
  {
   "cell_type": "markdown",
   "id": "c2e31539",
   "metadata": {},
   "source": [
    "## Objectives:\n",
    "\n",
    "### 1)Develop a classification model using machine learning techniques.\n",
    "### 2)Explore the impact of different features on the success of fire extinguishing.\n",
    "### 3)Evaluate and compare the performance of multiple classification algorithms.\n",
    "### 4)Understand the suitability of sound wave technology in diverse fire scenarios."
   ]
  },
  {
   "cell_type": "markdown",
   "id": "11c736b8",
   "metadata": {},
   "source": [
    "# Random Forest Model"
   ]
  },
  {
   "cell_type": "markdown",
   "id": "792439c6",
   "metadata": {},
   "source": [
    "### Loading the Libraries "
   ]
  },
  {
   "cell_type": "code",
   "execution_count": 1,
   "id": "d4f67667",
   "metadata": {},
   "outputs": [
    {
     "name": "stderr",
     "output_type": "stream",
     "text": [
      "C:\\Users\\aniru\\anaconda3\\lib\\site-packages\\scipy\\__init__.py:155: UserWarning: A NumPy version >=1.18.5 and <1.25.0 is required for this version of SciPy (detected version 1.26.2\n",
      "  warnings.warn(f\"A NumPy version >={np_minversion} and <{np_maxversion}\"\n"
     ]
    }
   ],
   "source": [
    "import pandas as pd\n",
    "from sklearn.ensemble import RandomForestClassifier  # For classification\n",
    "from sklearn.ensemble import RandomForestRegressor  # For regression\n",
    "from sklearn.model_selection import train_test_split\n",
    "from sklearn.metrics import accuracy_score  # For classification\n",
    "from sklearn.metrics import mean_squared_error  # For regression\n",
    "from sklearn.metrics import confusion_matrix, accuracy_score, precision_score, recall_score, f1_score"
   ]
  },
  {
   "cell_type": "code",
   "execution_count": 2,
   "id": "8091e3a7",
   "metadata": {},
   "outputs": [],
   "source": [
    "data=pd.read_excel(\"C:\\\\Users\\\\aniru\\\\OneDrive\\\\Desktop\\\\ML-2 EndTerm\\\\Acoustic_Extinguisher_Fire_Dataset.xlsx\")"
   ]
  },
  {
   "cell_type": "code",
   "execution_count": 3,
   "id": "738c5f82",
   "metadata": {},
   "outputs": [
    {
     "data": {
      "text/html": [
       "<div>\n",
       "<style scoped>\n",
       "    .dataframe tbody tr th:only-of-type {\n",
       "        vertical-align: middle;\n",
       "    }\n",
       "\n",
       "    .dataframe tbody tr th {\n",
       "        vertical-align: top;\n",
       "    }\n",
       "\n",
       "    .dataframe thead th {\n",
       "        text-align: right;\n",
       "    }\n",
       "</style>\n",
       "<table border=\"1\" class=\"dataframe\">\n",
       "  <thead>\n",
       "    <tr style=\"text-align: right;\">\n",
       "      <th></th>\n",
       "      <th>SIZE</th>\n",
       "      <th>FUEL</th>\n",
       "      <th>DISTANCE</th>\n",
       "      <th>DESIBEL</th>\n",
       "      <th>AIRFLOW</th>\n",
       "      <th>FREQUENCY</th>\n",
       "      <th>STATUS</th>\n",
       "    </tr>\n",
       "  </thead>\n",
       "  <tbody>\n",
       "    <tr>\n",
       "      <th>0</th>\n",
       "      <td>1</td>\n",
       "      <td>gasoline</td>\n",
       "      <td>10</td>\n",
       "      <td>96</td>\n",
       "      <td>0.0</td>\n",
       "      <td>75</td>\n",
       "      <td>0</td>\n",
       "    </tr>\n",
       "    <tr>\n",
       "      <th>1</th>\n",
       "      <td>1</td>\n",
       "      <td>gasoline</td>\n",
       "      <td>10</td>\n",
       "      <td>96</td>\n",
       "      <td>0.0</td>\n",
       "      <td>72</td>\n",
       "      <td>1</td>\n",
       "    </tr>\n",
       "    <tr>\n",
       "      <th>2</th>\n",
       "      <td>1</td>\n",
       "      <td>gasoline</td>\n",
       "      <td>10</td>\n",
       "      <td>96</td>\n",
       "      <td>2.6</td>\n",
       "      <td>70</td>\n",
       "      <td>1</td>\n",
       "    </tr>\n",
       "    <tr>\n",
       "      <th>3</th>\n",
       "      <td>1</td>\n",
       "      <td>gasoline</td>\n",
       "      <td>10</td>\n",
       "      <td>96</td>\n",
       "      <td>3.2</td>\n",
       "      <td>68</td>\n",
       "      <td>1</td>\n",
       "    </tr>\n",
       "    <tr>\n",
       "      <th>4</th>\n",
       "      <td>1</td>\n",
       "      <td>gasoline</td>\n",
       "      <td>10</td>\n",
       "      <td>109</td>\n",
       "      <td>4.5</td>\n",
       "      <td>67</td>\n",
       "      <td>1</td>\n",
       "    </tr>\n",
       "    <tr>\n",
       "      <th>...</th>\n",
       "      <td>...</td>\n",
       "      <td>...</td>\n",
       "      <td>...</td>\n",
       "      <td>...</td>\n",
       "      <td>...</td>\n",
       "      <td>...</td>\n",
       "      <td>...</td>\n",
       "    </tr>\n",
       "    <tr>\n",
       "      <th>17437</th>\n",
       "      <td>7</td>\n",
       "      <td>lpg</td>\n",
       "      <td>190</td>\n",
       "      <td>86</td>\n",
       "      <td>2.2</td>\n",
       "      <td>5</td>\n",
       "      <td>0</td>\n",
       "    </tr>\n",
       "    <tr>\n",
       "      <th>17438</th>\n",
       "      <td>7</td>\n",
       "      <td>lpg</td>\n",
       "      <td>190</td>\n",
       "      <td>84</td>\n",
       "      <td>2.0</td>\n",
       "      <td>4</td>\n",
       "      <td>0</td>\n",
       "    </tr>\n",
       "    <tr>\n",
       "      <th>17439</th>\n",
       "      <td>7</td>\n",
       "      <td>lpg</td>\n",
       "      <td>190</td>\n",
       "      <td>80</td>\n",
       "      <td>1.5</td>\n",
       "      <td>3</td>\n",
       "      <td>0</td>\n",
       "    </tr>\n",
       "    <tr>\n",
       "      <th>17440</th>\n",
       "      <td>7</td>\n",
       "      <td>lpg</td>\n",
       "      <td>190</td>\n",
       "      <td>76</td>\n",
       "      <td>0.4</td>\n",
       "      <td>2</td>\n",
       "      <td>0</td>\n",
       "    </tr>\n",
       "    <tr>\n",
       "      <th>17441</th>\n",
       "      <td>7</td>\n",
       "      <td>lpg</td>\n",
       "      <td>190</td>\n",
       "      <td>72</td>\n",
       "      <td>0.0</td>\n",
       "      <td>1</td>\n",
       "      <td>0</td>\n",
       "    </tr>\n",
       "  </tbody>\n",
       "</table>\n",
       "<p>17442 rows × 7 columns</p>\n",
       "</div>"
      ],
      "text/plain": [
       "       SIZE      FUEL  DISTANCE  DESIBEL  AIRFLOW  FREQUENCY  STATUS\n",
       "0         1  gasoline        10       96      0.0         75       0\n",
       "1         1  gasoline        10       96      0.0         72       1\n",
       "2         1  gasoline        10       96      2.6         70       1\n",
       "3         1  gasoline        10       96      3.2         68       1\n",
       "4         1  gasoline        10      109      4.5         67       1\n",
       "...     ...       ...       ...      ...      ...        ...     ...\n",
       "17437     7       lpg       190       86      2.2          5       0\n",
       "17438     7       lpg       190       84      2.0          4       0\n",
       "17439     7       lpg       190       80      1.5          3       0\n",
       "17440     7       lpg       190       76      0.4          2       0\n",
       "17441     7       lpg       190       72      0.0          1       0\n",
       "\n",
       "[17442 rows x 7 columns]"
      ]
     },
     "execution_count": 3,
     "metadata": {},
     "output_type": "execute_result"
    }
   ],
   "source": [
    "data"
   ]
  },
  {
   "cell_type": "markdown",
   "id": "8ce19097",
   "metadata": {},
   "source": [
    "### Convert categorical variables to numerical using one-hot encoding"
   ]
  },
  {
   "cell_type": "code",
   "execution_count": 4,
   "id": "9b71ed15",
   "metadata": {},
   "outputs": [],
   "source": [
    "# Convert categorical variables to numerical using one-hot encoding\n",
    "data = pd.get_dummies(data, columns=['FUEL'])"
   ]
  },
  {
   "cell_type": "code",
   "execution_count": 5,
   "id": "354b4989",
   "metadata": {},
   "outputs": [
    {
     "data": {
      "text/html": [
       "<div>\n",
       "<style scoped>\n",
       "    .dataframe tbody tr th:only-of-type {\n",
       "        vertical-align: middle;\n",
       "    }\n",
       "\n",
       "    .dataframe tbody tr th {\n",
       "        vertical-align: top;\n",
       "    }\n",
       "\n",
       "    .dataframe thead th {\n",
       "        text-align: right;\n",
       "    }\n",
       "</style>\n",
       "<table border=\"1\" class=\"dataframe\">\n",
       "  <thead>\n",
       "    <tr style=\"text-align: right;\">\n",
       "      <th></th>\n",
       "      <th>SIZE</th>\n",
       "      <th>DISTANCE</th>\n",
       "      <th>DESIBEL</th>\n",
       "      <th>AIRFLOW</th>\n",
       "      <th>FREQUENCY</th>\n",
       "      <th>STATUS</th>\n",
       "      <th>FUEL_gasoline</th>\n",
       "      <th>FUEL_kerosene</th>\n",
       "      <th>FUEL_lpg</th>\n",
       "      <th>FUEL_thinner</th>\n",
       "    </tr>\n",
       "  </thead>\n",
       "  <tbody>\n",
       "    <tr>\n",
       "      <th>0</th>\n",
       "      <td>1</td>\n",
       "      <td>10</td>\n",
       "      <td>96</td>\n",
       "      <td>0.0</td>\n",
       "      <td>75</td>\n",
       "      <td>0</td>\n",
       "      <td>1</td>\n",
       "      <td>0</td>\n",
       "      <td>0</td>\n",
       "      <td>0</td>\n",
       "    </tr>\n",
       "    <tr>\n",
       "      <th>1</th>\n",
       "      <td>1</td>\n",
       "      <td>10</td>\n",
       "      <td>96</td>\n",
       "      <td>0.0</td>\n",
       "      <td>72</td>\n",
       "      <td>1</td>\n",
       "      <td>1</td>\n",
       "      <td>0</td>\n",
       "      <td>0</td>\n",
       "      <td>0</td>\n",
       "    </tr>\n",
       "    <tr>\n",
       "      <th>2</th>\n",
       "      <td>1</td>\n",
       "      <td>10</td>\n",
       "      <td>96</td>\n",
       "      <td>2.6</td>\n",
       "      <td>70</td>\n",
       "      <td>1</td>\n",
       "      <td>1</td>\n",
       "      <td>0</td>\n",
       "      <td>0</td>\n",
       "      <td>0</td>\n",
       "    </tr>\n",
       "    <tr>\n",
       "      <th>3</th>\n",
       "      <td>1</td>\n",
       "      <td>10</td>\n",
       "      <td>96</td>\n",
       "      <td>3.2</td>\n",
       "      <td>68</td>\n",
       "      <td>1</td>\n",
       "      <td>1</td>\n",
       "      <td>0</td>\n",
       "      <td>0</td>\n",
       "      <td>0</td>\n",
       "    </tr>\n",
       "    <tr>\n",
       "      <th>4</th>\n",
       "      <td>1</td>\n",
       "      <td>10</td>\n",
       "      <td>109</td>\n",
       "      <td>4.5</td>\n",
       "      <td>67</td>\n",
       "      <td>1</td>\n",
       "      <td>1</td>\n",
       "      <td>0</td>\n",
       "      <td>0</td>\n",
       "      <td>0</td>\n",
       "    </tr>\n",
       "    <tr>\n",
       "      <th>...</th>\n",
       "      <td>...</td>\n",
       "      <td>...</td>\n",
       "      <td>...</td>\n",
       "      <td>...</td>\n",
       "      <td>...</td>\n",
       "      <td>...</td>\n",
       "      <td>...</td>\n",
       "      <td>...</td>\n",
       "      <td>...</td>\n",
       "      <td>...</td>\n",
       "    </tr>\n",
       "    <tr>\n",
       "      <th>17437</th>\n",
       "      <td>7</td>\n",
       "      <td>190</td>\n",
       "      <td>86</td>\n",
       "      <td>2.2</td>\n",
       "      <td>5</td>\n",
       "      <td>0</td>\n",
       "      <td>0</td>\n",
       "      <td>0</td>\n",
       "      <td>1</td>\n",
       "      <td>0</td>\n",
       "    </tr>\n",
       "    <tr>\n",
       "      <th>17438</th>\n",
       "      <td>7</td>\n",
       "      <td>190</td>\n",
       "      <td>84</td>\n",
       "      <td>2.0</td>\n",
       "      <td>4</td>\n",
       "      <td>0</td>\n",
       "      <td>0</td>\n",
       "      <td>0</td>\n",
       "      <td>1</td>\n",
       "      <td>0</td>\n",
       "    </tr>\n",
       "    <tr>\n",
       "      <th>17439</th>\n",
       "      <td>7</td>\n",
       "      <td>190</td>\n",
       "      <td>80</td>\n",
       "      <td>1.5</td>\n",
       "      <td>3</td>\n",
       "      <td>0</td>\n",
       "      <td>0</td>\n",
       "      <td>0</td>\n",
       "      <td>1</td>\n",
       "      <td>0</td>\n",
       "    </tr>\n",
       "    <tr>\n",
       "      <th>17440</th>\n",
       "      <td>7</td>\n",
       "      <td>190</td>\n",
       "      <td>76</td>\n",
       "      <td>0.4</td>\n",
       "      <td>2</td>\n",
       "      <td>0</td>\n",
       "      <td>0</td>\n",
       "      <td>0</td>\n",
       "      <td>1</td>\n",
       "      <td>0</td>\n",
       "    </tr>\n",
       "    <tr>\n",
       "      <th>17441</th>\n",
       "      <td>7</td>\n",
       "      <td>190</td>\n",
       "      <td>72</td>\n",
       "      <td>0.0</td>\n",
       "      <td>1</td>\n",
       "      <td>0</td>\n",
       "      <td>0</td>\n",
       "      <td>0</td>\n",
       "      <td>1</td>\n",
       "      <td>0</td>\n",
       "    </tr>\n",
       "  </tbody>\n",
       "</table>\n",
       "<p>17442 rows × 10 columns</p>\n",
       "</div>"
      ],
      "text/plain": [
       "       SIZE  DISTANCE  DESIBEL  AIRFLOW  FREQUENCY  STATUS  FUEL_gasoline  \\\n",
       "0         1        10       96      0.0         75       0              1   \n",
       "1         1        10       96      0.0         72       1              1   \n",
       "2         1        10       96      2.6         70       1              1   \n",
       "3         1        10       96      3.2         68       1              1   \n",
       "4         1        10      109      4.5         67       1              1   \n",
       "...     ...       ...      ...      ...        ...     ...            ...   \n",
       "17437     7       190       86      2.2          5       0              0   \n",
       "17438     7       190       84      2.0          4       0              0   \n",
       "17439     7       190       80      1.5          3       0              0   \n",
       "17440     7       190       76      0.4          2       0              0   \n",
       "17441     7       190       72      0.0          1       0              0   \n",
       "\n",
       "       FUEL_kerosene  FUEL_lpg  FUEL_thinner  \n",
       "0                  0         0             0  \n",
       "1                  0         0             0  \n",
       "2                  0         0             0  \n",
       "3                  0         0             0  \n",
       "4                  0         0             0  \n",
       "...              ...       ...           ...  \n",
       "17437              0         1             0  \n",
       "17438              0         1             0  \n",
       "17439              0         1             0  \n",
       "17440              0         1             0  \n",
       "17441              0         1             0  \n",
       "\n",
       "[17442 rows x 10 columns]"
      ]
     },
     "execution_count": 5,
     "metadata": {},
     "output_type": "execute_result"
    }
   ],
   "source": [
    "data"
   ]
  },
  {
   "cell_type": "markdown",
   "id": "631b7469",
   "metadata": {},
   "source": [
    "### Checking the Missing Values"
   ]
  },
  {
   "cell_type": "code",
   "execution_count": 6,
   "id": "0df19019",
   "metadata": {},
   "outputs": [
    {
     "name": "stdout",
     "output_type": "stream",
     "text": [
      "SIZE             0\n",
      "DISTANCE         0\n",
      "DESIBEL          0\n",
      "AIRFLOW          0\n",
      "FREQUENCY        0\n",
      "STATUS           0\n",
      "FUEL_gasoline    0\n",
      "FUEL_kerosene    0\n",
      "FUEL_lpg         0\n",
      "FUEL_thinner     0\n",
      "dtype: int64\n"
     ]
    }
   ],
   "source": [
    "# Check for missing values\n",
    "print(data.isnull().sum())"
   ]
  },
  {
   "cell_type": "markdown",
   "id": "eb768115",
   "metadata": {},
   "source": [
    "### Seperating the X_custom and target variable y_custom"
   ]
  },
  {
   "cell_type": "code",
   "execution_count": 7,
   "id": "3ba8d0a1",
   "metadata": {},
   "outputs": [],
   "source": [
    "# Separate features (X_custom) and target variable (y_custom)\n",
    "X_custom = data.drop('STATUS', axis='columns')\n",
    "y_custom = data['STATUS']"
   ]
  },
  {
   "cell_type": "markdown",
   "id": "3ee24fbb",
   "metadata": {},
   "source": [
    "### Split to training and testing "
   ]
  },
  {
   "cell_type": "code",
   "execution_count": 8,
   "id": "745e67da",
   "metadata": {},
   "outputs": [],
   "source": [
    "# Split the dataset into training and testing sets\n",
    "X_train_custom, X_test_custom, y_train_custom, y_test_custom = train_test_split(X_custom, y_custom, test_size=0.2)"
   ]
  },
  {
   "cell_type": "markdown",
   "id": "95677e16",
   "metadata": {},
   "source": [
    "### Create a Random Forest classifier"
   ]
  },
  {
   "cell_type": "code",
   "execution_count": 9,
   "id": "5fbea8ab",
   "metadata": {},
   "outputs": [],
   "source": [
    "# Create a Random Forest classifier\n",
    "model_custom_rf = RandomForestClassifier(n_estimators=20)"
   ]
  },
  {
   "cell_type": "code",
   "execution_count": 10,
   "id": "05f7f344",
   "metadata": {},
   "outputs": [
    {
     "data": {
      "text/plain": [
       "RandomForestClassifier(n_estimators=20)"
      ]
     },
     "execution_count": 10,
     "metadata": {},
     "output_type": "execute_result"
    }
   ],
   "source": [
    "# Train the model\n",
    "model_custom_rf.fit(X_train_custom, y_train_custom)"
   ]
  },
  {
   "cell_type": "code",
   "execution_count": 11,
   "id": "b8f79db0",
   "metadata": {},
   "outputs": [],
   "source": [
    "# Make predictions on the test set\n",
    "y_predicted_custom_rf = model_custom_rf.predict(X_test_custom)"
   ]
  },
  {
   "cell_type": "code",
   "execution_count": 12,
   "id": "9b7b5115",
   "metadata": {},
   "outputs": [
    {
     "name": "stdout",
     "output_type": "stream",
     "text": [
      "Accuracy on the test set (Random Forest): 0.9670392662654056\n",
      "Precision on the test set (Random Forest): 0.9670725831507099\n",
      "Recall on the test set (Random Forest): 0.9670392662654056\n",
      "F1 score on the test set (Random Forest): 0.9670380477260625\n"
     ]
    }
   ],
   "source": [
    "# Evaluate the model\n",
    "accuracy_custom_rf = accuracy_score(y_test_custom, y_predicted_custom_rf)\n",
    "precision_custom_rf = precision_score(y_test_custom, y_predicted_custom_rf, average='weighted')\n",
    "recall_custom_rf = recall_score(y_test_custom, y_predicted_custom_rf, average='weighted')\n",
    "f1_custom_rf = f1_score(y_test_custom, y_predicted_custom_rf, average='weighted')\n",
    "\n",
    "# Print the evaluation metrics\n",
    "print(f\"Accuracy on the test set (Random Forest): {accuracy_custom_rf}\")\n",
    "print(f\"Precision on the test set (Random Forest): {precision_custom_rf}\")\n",
    "print(f\"Recall on the test set (Random Forest): {recall_custom_rf}\")\n",
    "print(f\"F1 score on the test set (Random Forest): {f1_custom_rf}\")"
   ]
  },
  {
   "cell_type": "code",
   "execution_count": 13,
   "id": "d5de333d",
   "metadata": {},
   "outputs": [],
   "source": [
    "from sklearn.metrics import confusion_matrix"
   ]
  },
  {
   "cell_type": "code",
   "execution_count": 14,
   "id": "b52c608f",
   "metadata": {},
   "outputs": [
    {
     "name": "stdout",
     "output_type": "stream",
     "text": [
      "Confusion Matrix:\n",
      "[[1702   50]\n",
      " [  65 1672]]\n"
     ]
    }
   ],
   "source": [
    "# Create a confusion matrix\n",
    "cm_custom = confusion_matrix(y_test_custom, y_predicted_custom_rf)\n",
    "print(\"Confusion Matrix:\")\n",
    "print(cm_custom)"
   ]
  },
  {
   "cell_type": "code",
   "execution_count": 15,
   "id": "9aee9ba5",
   "metadata": {},
   "outputs": [],
   "source": [
    "import matplotlib.pyplot as plt\n",
    "import seaborn as sns"
   ]
  },
  {
   "cell_type": "code",
   "execution_count": 16,
   "id": "1de96567",
   "metadata": {},
   "outputs": [
    {
     "data": {
      "image/png": "[encoded data removed]",
      "text/plain": [
       "<Figure size 1000x700 with 2 Axes>"
      ]
     },
     "metadata": {},
     "output_type": "display_data"
    }
   ],
   "source": [
    "# Visualize the confusion matrix\n",
    "plt.figure(figsize=(10,7))\n",
    "sns.heatmap(cm_custom, annot=True, fmt='g')\n",
    "plt.xlabel('Predicted')\n",
    "plt.ylabel('Truth')\n",
    "plt.show()"
   ]
  },
  {
   "cell_type": "markdown",
   "id": "af12b17a",
   "metadata": {},
   "source": [
    "## XG Boost "
   ]
  },
  {
   "cell_type": "code",
   "execution_count": 17,
   "id": "3ae077a8",
   "metadata": {},
   "outputs": [],
   "source": [
    "from xgboost import XGBClassifier  # Import XGBClassifier from xgboost"
   ]
  },
  {
   "cell_type": "code",
   "execution_count": 18,
   "id": "d851f795",
   "metadata": {},
   "outputs": [
    {
     "data": {
      "text/html": [
       "<div>\n",
       "<style scoped>\n",
       "    .dataframe tbody tr th:only-of-type {\n",
       "        vertical-align: middle;\n",
       "    }\n",
       "\n",
       "    .dataframe tbody tr th {\n",
       "        vertical-align: top;\n",
       "    }\n",
       "\n",
       "    .dataframe thead th {\n",
       "        text-align: right;\n",
       "    }\n",
       "</style>\n",
       "<table border=\"1\" class=\"dataframe\">\n",
       "  <thead>\n",
       "    <tr style=\"text-align: right;\">\n",
       "      <th></th>\n",
       "      <th>SIZE</th>\n",
       "      <th>DISTANCE</th>\n",
       "      <th>DESIBEL</th>\n",
       "      <th>AIRFLOW</th>\n",
       "      <th>FREQUENCY</th>\n",
       "      <th>STATUS</th>\n",
       "      <th>FUEL_gasoline</th>\n",
       "      <th>FUEL_kerosene</th>\n",
       "      <th>FUEL_lpg</th>\n",
       "      <th>FUEL_thinner</th>\n",
       "    </tr>\n",
       "  </thead>\n",
       "  <tbody>\n",
       "    <tr>\n",
       "      <th>0</th>\n",
       "      <td>1</td>\n",
       "      <td>10</td>\n",
       "      <td>96</td>\n",
       "      <td>0.0</td>\n",
       "      <td>75</td>\n",
       "      <td>0</td>\n",
       "      <td>1</td>\n",
       "      <td>0</td>\n",
       "      <td>0</td>\n",
       "      <td>0</td>\n",
       "    </tr>\n",
       "    <tr>\n",
       "      <th>1</th>\n",
       "      <td>1</td>\n",
       "      <td>10</td>\n",
       "      <td>96</td>\n",
       "      <td>0.0</td>\n",
       "      <td>72</td>\n",
       "      <td>1</td>\n",
       "      <td>1</td>\n",
       "      <td>0</td>\n",
       "      <td>0</td>\n",
       "      <td>0</td>\n",
       "    </tr>\n",
       "    <tr>\n",
       "      <th>2</th>\n",
       "      <td>1</td>\n",
       "      <td>10</td>\n",
       "      <td>96</td>\n",
       "      <td>2.6</td>\n",
       "      <td>70</td>\n",
       "      <td>1</td>\n",
       "      <td>1</td>\n",
       "      <td>0</td>\n",
       "      <td>0</td>\n",
       "      <td>0</td>\n",
       "    </tr>\n",
       "    <tr>\n",
       "      <th>3</th>\n",
       "      <td>1</td>\n",
       "      <td>10</td>\n",
       "      <td>96</td>\n",
       "      <td>3.2</td>\n",
       "      <td>68</td>\n",
       "      <td>1</td>\n",
       "      <td>1</td>\n",
       "      <td>0</td>\n",
       "      <td>0</td>\n",
       "      <td>0</td>\n",
       "    </tr>\n",
       "    <tr>\n",
       "      <th>4</th>\n",
       "      <td>1</td>\n",
       "      <td>10</td>\n",
       "      <td>109</td>\n",
       "      <td>4.5</td>\n",
       "      <td>67</td>\n",
       "      <td>1</td>\n",
       "      <td>1</td>\n",
       "      <td>0</td>\n",
       "      <td>0</td>\n",
       "      <td>0</td>\n",
       "    </tr>\n",
       "    <tr>\n",
       "      <th>...</th>\n",
       "      <td>...</td>\n",
       "      <td>...</td>\n",
       "      <td>...</td>\n",
       "      <td>...</td>\n",
       "      <td>...</td>\n",
       "      <td>...</td>\n",
       "      <td>...</td>\n",
       "      <td>...</td>\n",
       "      <td>...</td>\n",
       "      <td>...</td>\n",
       "    </tr>\n",
       "    <tr>\n",
       "      <th>17437</th>\n",
       "      <td>7</td>\n",
       "      <td>190</td>\n",
       "      <td>86</td>\n",
       "      <td>2.2</td>\n",
       "      <td>5</td>\n",
       "      <td>0</td>\n",
       "      <td>0</td>\n",
       "      <td>0</td>\n",
       "      <td>1</td>\n",
       "      <td>0</td>\n",
       "    </tr>\n",
       "    <tr>\n",
       "      <th>17438</th>\n",
       "      <td>7</td>\n",
       "      <td>190</td>\n",
       "      <td>84</td>\n",
       "      <td>2.0</td>\n",
       "      <td>4</td>\n",
       "      <td>0</td>\n",
       "      <td>0</td>\n",
       "      <td>0</td>\n",
       "      <td>1</td>\n",
       "      <td>0</td>\n",
       "    </tr>\n",
       "    <tr>\n",
       "      <th>17439</th>\n",
       "      <td>7</td>\n",
       "      <td>190</td>\n",
       "      <td>80</td>\n",
       "      <td>1.5</td>\n",
       "      <td>3</td>\n",
       "      <td>0</td>\n",
       "      <td>0</td>\n",
       "      <td>0</td>\n",
       "      <td>1</td>\n",
       "      <td>0</td>\n",
       "    </tr>\n",
       "    <tr>\n",
       "      <th>17440</th>\n",
       "      <td>7</td>\n",
       "      <td>190</td>\n",
       "      <td>76</td>\n",
       "      <td>0.4</td>\n",
       "      <td>2</td>\n",
       "      <td>0</td>\n",
       "      <td>0</td>\n",
       "      <td>0</td>\n",
       "      <td>1</td>\n",
       "      <td>0</td>\n",
       "    </tr>\n",
       "    <tr>\n",
       "      <th>17441</th>\n",
       "      <td>7</td>\n",
       "      <td>190</td>\n",
       "      <td>72</td>\n",
       "      <td>0.0</td>\n",
       "      <td>1</td>\n",
       "      <td>0</td>\n",
       "      <td>0</td>\n",
       "      <td>0</td>\n",
       "      <td>1</td>\n",
       "      <td>0</td>\n",
       "    </tr>\n",
       "  </tbody>\n",
       "</table>\n",
       "<p>17442 rows × 10 columns</p>\n",
       "</div>"
      ],
      "text/plain": [
       "       SIZE  DISTANCE  DESIBEL  AIRFLOW  FREQUENCY  STATUS  FUEL_gasoline  \\\n",
       "0         1        10       96      0.0         75       0              1   \n",
       "1         1        10       96      0.0         72       1              1   \n",
       "2         1        10       96      2.6         70       1              1   \n",
       "3         1        10       96      3.2         68       1              1   \n",
       "4         1        10      109      4.5         67       1              1   \n",
       "...     ...       ...      ...      ...        ...     ...            ...   \n",
       "17437     7       190       86      2.2          5       0              0   \n",
       "17438     7       190       84      2.0          4       0              0   \n",
       "17439     7       190       80      1.5          3       0              0   \n",
       "17440     7       190       76      0.4          2       0              0   \n",
       "17441     7       190       72      0.0          1       0              0   \n",
       "\n",
       "       FUEL_kerosene  FUEL_lpg  FUEL_thinner  \n",
       "0                  0         0             0  \n",
       "1                  0         0             0  \n",
       "2                  0         0             0  \n",
       "3                  0         0             0  \n",
       "4                  0         0             0  \n",
       "...              ...       ...           ...  \n",
       "17437              0         1             0  \n",
       "17438              0         1             0  \n",
       "17439              0         1             0  \n",
       "17440              0         1             0  \n",
       "17441              0         1             0  \n",
       "\n",
       "[17442 rows x 10 columns]"
      ]
     },
     "execution_count": 18,
     "metadata": {},
     "output_type": "execute_result"
    }
   ],
   "source": [
    "data"
   ]
  },
  {
   "cell_type": "code",
   "execution_count": 19,
   "id": "1c031736",
   "metadata": {},
   "outputs": [],
   "source": [
    "# Create an XGBoost classifier\n",
    "model_custom_xgb = XGBClassifier(n_estimators=20)"
   ]
  },
  {
   "cell_type": "code",
   "execution_count": 20,
   "id": "b9c56d61",
   "metadata": {},
   "outputs": [
    {
     "data": {
      "text/plain": [
       "XGBClassifier(base_score=None, booster=None, callbacks=None,\n",
       "              colsample_bylevel=None, colsample_bynode=None,\n",
       "              colsample_bytree=None, early_stopping_rounds=None,\n",
       "              enable_categorical=False, eval_metric=None, feature_types=None,\n",
       "              gamma=None, gpu_id=None, grow_policy=None, importance_type=None,\n",
       "              interaction_constraints=None, learning_rate=None, max_bin=None,\n",
       "              max_cat_threshold=None, max_cat_to_onehot=None,\n",
       "              max_delta_step=None, max_depth=None, max_leaves=None,\n",
       "              min_child_weight=None, missing=nan, monotone_constraints=None,\n",
       "              n_estimators=20, n_jobs=None, num_parallel_tree=None,\n",
       "              predictor=None, random_state=None, ...)"
      ]
     },
     "execution_count": 20,
     "metadata": {},
     "output_type": "execute_result"
    }
   ],
   "source": [
    "# Train the model\n",
    "model_custom_xgb.fit(X_train_custom, y_train_custom)"
   ]
  },
  {
   "cell_type": "code",
   "execution_count": 21,
   "id": "e4829cef",
   "metadata": {},
   "outputs": [],
   "source": [
    "# Make predictions on the test set\n",
    "y_predicted_custom_xgb = model_custom_xgb.predict(X_test_custom)"
   ]
  },
  {
   "cell_type": "code",
   "execution_count": 22,
   "id": "7094e598",
   "metadata": {},
   "outputs": [
    {
     "name": "stdout",
     "output_type": "stream",
     "text": [
      "Accuracy on the test set (XGBoost): 0.9610203496703926\n",
      "Precision on the test set (XGBoost): 0.9610487007335357\n",
      "Recall on the test set (XGBoost): 0.9610203496703926\n",
      "F1 score on the test set (XGBoost): 0.9610190495246488\n"
     ]
    }
   ],
   "source": [
    "# Evaluate the model\n",
    "accuracy_custom_xgb = accuracy_score(y_test_custom, y_predicted_custom_xgb)\n",
    "precision_custom_xgb = precision_score(y_test_custom, y_predicted_custom_xgb, average='weighted')\n",
    "recall_custom_xgb = recall_score(y_test_custom, y_predicted_custom_xgb, average='weighted')\n",
    "f1_custom_xgb = f1_score(y_test_custom, y_predicted_custom_xgb, average='weighted')\n",
    "\n",
    "# Print the evaluation metrics\n",
    "print(f\"Accuracy on the test set (XGBoost): {accuracy_custom_xgb}\")\n",
    "print(f\"Precision on the test set (XGBoost): {precision_custom_xgb}\")\n",
    "print(f\"Recall on the test set (XGBoost): {recall_custom_xgb}\")\n",
    "print(f\"F1 score on the test set (XGBoost): {f1_custom_xgb}\")"
   ]
  },
  {
   "cell_type": "code",
   "execution_count": 23,
   "id": "1a0a7527",
   "metadata": {},
   "outputs": [
    {
     "name": "stdout",
     "output_type": "stream",
     "text": [
      "Confusion Matrix (XGBoost):\n",
      "[[1691   61]\n",
      " [  75 1662]]\n"
     ]
    }
   ],
   "source": [
    "# Create a confusion matrix\n",
    "cm_custom_xgb = confusion_matrix(y_test_custom, y_predicted_custom_xgb)\n",
    "print(\"Confusion Matrix (XGBoost):\")\n",
    "print(cm_custom_xgb)"
   ]
  },
  {
   "cell_type": "code",
   "execution_count": 24,
   "id": "2808e9bf",
   "metadata": {},
   "outputs": [
    {
     "data": {
      "image/png": "[encoded data removed]",
      "text/plain": [
       "<Figure size 1000x700 with 2 Axes>"
      ]
     },
     "metadata": {},
     "output_type": "display_data"
    }
   ],
   "source": [
    "# Visualize the confusion matrix\n",
    "plt.figure(figsize=(10,7))\n",
    "sns.heatmap(cm_custom_xgb, annot=True, fmt='g')\n",
    "plt.xlabel('Predicted')\n",
    "plt.ylabel('Truth')\n",
    "plt.show()"
   ]
  },
  {
   "cell_type": "markdown",
   "id": "2d956c0c",
   "metadata": {},
   "source": [
    "## Ada Boost"
   ]
  },
  {
   "cell_type": "markdown",
   "id": "c617cfc9",
   "metadata": {},
   "source": [
    "### Calling Libraries for Ada Boost"
   ]
  },
  {
   "cell_type": "code",
   "execution_count": 25,
   "id": "6ad4e38c",
   "metadata": {},
   "outputs": [],
   "source": [
    "from sklearn.ensemble import AdaBoostClassifier"
   ]
  },
  {
   "cell_type": "code",
   "execution_count": 26,
   "id": "b9e69658",
   "metadata": {},
   "outputs": [
    {
     "data": {
      "text/html": [
       "<div>\n",
       "<style scoped>\n",
       "    .dataframe tbody tr th:only-of-type {\n",
       "        vertical-align: middle;\n",
       "    }\n",
       "\n",
       "    .dataframe tbody tr th {\n",
       "        vertical-align: top;\n",
       "    }\n",
       "\n",
       "    .dataframe thead th {\n",
       "        text-align: right;\n",
       "    }\n",
       "</style>\n",
       "<table border=\"1\" class=\"dataframe\">\n",
       "  <thead>\n",
       "    <tr style=\"text-align: right;\">\n",
       "      <th></th>\n",
       "      <th>SIZE</th>\n",
       "      <th>DISTANCE</th>\n",
       "      <th>DESIBEL</th>\n",
       "      <th>AIRFLOW</th>\n",
       "      <th>FREQUENCY</th>\n",
       "      <th>STATUS</th>\n",
       "      <th>FUEL_gasoline</th>\n",
       "      <th>FUEL_kerosene</th>\n",
       "      <th>FUEL_lpg</th>\n",
       "      <th>FUEL_thinner</th>\n",
       "    </tr>\n",
       "  </thead>\n",
       "  <tbody>\n",
       "    <tr>\n",
       "      <th>0</th>\n",
       "      <td>1</td>\n",
       "      <td>10</td>\n",
       "      <td>96</td>\n",
       "      <td>0.0</td>\n",
       "      <td>75</td>\n",
       "      <td>0</td>\n",
       "      <td>1</td>\n",
       "      <td>0</td>\n",
       "      <td>0</td>\n",
       "      <td>0</td>\n",
       "    </tr>\n",
       "    <tr>\n",
       "      <th>1</th>\n",
       "      <td>1</td>\n",
       "      <td>10</td>\n",
       "      <td>96</td>\n",
       "      <td>0.0</td>\n",
       "      <td>72</td>\n",
       "      <td>1</td>\n",
       "      <td>1</td>\n",
       "      <td>0</td>\n",
       "      <td>0</td>\n",
       "      <td>0</td>\n",
       "    </tr>\n",
       "    <tr>\n",
       "      <th>2</th>\n",
       "      <td>1</td>\n",
       "      <td>10</td>\n",
       "      <td>96</td>\n",
       "      <td>2.6</td>\n",
       "      <td>70</td>\n",
       "      <td>1</td>\n",
       "      <td>1</td>\n",
       "      <td>0</td>\n",
       "      <td>0</td>\n",
       "      <td>0</td>\n",
       "    </tr>\n",
       "    <tr>\n",
       "      <th>3</th>\n",
       "      <td>1</td>\n",
       "      <td>10</td>\n",
       "      <td>96</td>\n",
       "      <td>3.2</td>\n",
       "      <td>68</td>\n",
       "      <td>1</td>\n",
       "      <td>1</td>\n",
       "      <td>0</td>\n",
       "      <td>0</td>\n",
       "      <td>0</td>\n",
       "    </tr>\n",
       "    <tr>\n",
       "      <th>4</th>\n",
       "      <td>1</td>\n",
       "      <td>10</td>\n",
       "      <td>109</td>\n",
       "      <td>4.5</td>\n",
       "      <td>67</td>\n",
       "      <td>1</td>\n",
       "      <td>1</td>\n",
       "      <td>0</td>\n",
       "      <td>0</td>\n",
       "      <td>0</td>\n",
       "    </tr>\n",
       "    <tr>\n",
       "      <th>...</th>\n",
       "      <td>...</td>\n",
       "      <td>...</td>\n",
       "      <td>...</td>\n",
       "      <td>...</td>\n",
       "      <td>...</td>\n",
       "      <td>...</td>\n",
       "      <td>...</td>\n",
       "      <td>...</td>\n",
       "      <td>...</td>\n",
       "      <td>...</td>\n",
       "    </tr>\n",
       "    <tr>\n",
       "      <th>17437</th>\n",
       "      <td>7</td>\n",
       "      <td>190</td>\n",
       "      <td>86</td>\n",
       "      <td>2.2</td>\n",
       "      <td>5</td>\n",
       "      <td>0</td>\n",
       "      <td>0</td>\n",
       "      <td>0</td>\n",
       "      <td>1</td>\n",
       "      <td>0</td>\n",
       "    </tr>\n",
       "    <tr>\n",
       "      <th>17438</th>\n",
       "      <td>7</td>\n",
       "      <td>190</td>\n",
       "      <td>84</td>\n",
       "      <td>2.0</td>\n",
       "      <td>4</td>\n",
       "      <td>0</td>\n",
       "      <td>0</td>\n",
       "      <td>0</td>\n",
       "      <td>1</td>\n",
       "      <td>0</td>\n",
       "    </tr>\n",
       "    <tr>\n",
       "      <th>17439</th>\n",
       "      <td>7</td>\n",
       "      <td>190</td>\n",
       "      <td>80</td>\n",
       "      <td>1.5</td>\n",
       "      <td>3</td>\n",
       "      <td>0</td>\n",
       "      <td>0</td>\n",
       "      <td>0</td>\n",
       "      <td>1</td>\n",
       "      <td>0</td>\n",
       "    </tr>\n",
       "    <tr>\n",
       "      <th>17440</th>\n",
       "      <td>7</td>\n",
       "      <td>190</td>\n",
       "      <td>76</td>\n",
       "      <td>0.4</td>\n",
       "      <td>2</td>\n",
       "      <td>0</td>\n",
       "      <td>0</td>\n",
       "      <td>0</td>\n",
       "      <td>1</td>\n",
       "      <td>0</td>\n",
       "    </tr>\n",
       "    <tr>\n",
       "      <th>17441</th>\n",
       "      <td>7</td>\n",
       "      <td>190</td>\n",
       "      <td>72</td>\n",
       "      <td>0.0</td>\n",
       "      <td>1</td>\n",
       "      <td>0</td>\n",
       "      <td>0</td>\n",
       "      <td>0</td>\n",
       "      <td>1</td>\n",
       "      <td>0</td>\n",
       "    </tr>\n",
       "  </tbody>\n",
       "</table>\n",
       "<p>17442 rows × 10 columns</p>\n",
       "</div>"
      ],
      "text/plain": [
       "       SIZE  DISTANCE  DESIBEL  AIRFLOW  FREQUENCY  STATUS  FUEL_gasoline  \\\n",
       "0         1        10       96      0.0         75       0              1   \n",
       "1         1        10       96      0.0         72       1              1   \n",
       "2         1        10       96      2.6         70       1              1   \n",
       "3         1        10       96      3.2         68       1              1   \n",
       "4         1        10      109      4.5         67       1              1   \n",
       "...     ...       ...      ...      ...        ...     ...            ...   \n",
       "17437     7       190       86      2.2          5       0              0   \n",
       "17438     7       190       84      2.0          4       0              0   \n",
       "17439     7       190       80      1.5          3       0              0   \n",
       "17440     7       190       76      0.4          2       0              0   \n",
       "17441     7       190       72      0.0          1       0              0   \n",
       "\n",
       "       FUEL_kerosene  FUEL_lpg  FUEL_thinner  \n",
       "0                  0         0             0  \n",
       "1                  0         0             0  \n",
       "2                  0         0             0  \n",
       "3                  0         0             0  \n",
       "4                  0         0             0  \n",
       "...              ...       ...           ...  \n",
       "17437              0         1             0  \n",
       "17438              0         1             0  \n",
       "17439              0         1             0  \n",
       "17440              0         1             0  \n",
       "17441              0         1             0  \n",
       "\n",
       "[17442 rows x 10 columns]"
      ]
     },
     "execution_count": 26,
     "metadata": {},
     "output_type": "execute_result"
    }
   ],
   "source": [
    "data"
   ]
  },
  {
   "cell_type": "code",
   "execution_count": 27,
   "id": "cb808276",
   "metadata": {},
   "outputs": [],
   "source": [
    "# Create an AdaBoost classifier\n",
    "model_custom_adaboost = AdaBoostClassifier(n_estimators=20)"
   ]
  },
  {
   "cell_type": "code",
   "execution_count": 28,
   "id": "c5d7f387",
   "metadata": {},
   "outputs": [
    {
     "data": {
      "text/plain": [
       "AdaBoostClassifier(n_estimators=20)"
      ]
     },
     "execution_count": 28,
     "metadata": {},
     "output_type": "execute_result"
    }
   ],
   "source": [
    "# Train the model\n",
    "model_custom_adaboost.fit(X_train_custom, y_train_custom)"
   ]
  },
  {
   "cell_type": "code",
   "execution_count": 29,
   "id": "959cba4e",
   "metadata": {},
   "outputs": [],
   "source": [
    "# Make predictions on the test set\n",
    "y_predicted_custom_adaboost = model_custom_adaboost.predict(X_test_custom)"
   ]
  },
  {
   "cell_type": "code",
   "execution_count": 30,
   "id": "79f9eadd",
   "metadata": {},
   "outputs": [
    {
     "name": "stdout",
     "output_type": "stream",
     "text": [
      "Accuracy on the test set (AdaBoost): 0.9217540842648323\n",
      "Precision on the test set (AdaBoost): 0.922077718377492\n",
      "Recall on the test set (AdaBoost): 0.9217540842648323\n",
      "F1 score on the test set (AdaBoost): 0.9217339200206348\n"
     ]
    }
   ],
   "source": [
    "# Evaluate the model\n",
    "accuracy_custom_adaboost = accuracy_score(y_test_custom, y_predicted_custom_adaboost)\n",
    "precision_custom_adaboost = precision_score(y_test_custom, y_predicted_custom_adaboost, average='weighted')\n",
    "recall_custom_adaboost = recall_score(y_test_custom, y_predicted_custom_adaboost, average='weighted')\n",
    "f1_custom_adaboost = f1_score(y_test_custom, y_predicted_custom_adaboost, average='weighted')\n",
    "\n",
    "# Print the evaluation metrics\n",
    "print(f\"Accuracy on the test set (AdaBoost): {accuracy_custom_adaboost}\")\n",
    "print(f\"Precision on the test set (AdaBoost): {precision_custom_adaboost}\")\n",
    "print(f\"Recall on the test set (AdaBoost): {recall_custom_adaboost}\")\n",
    "print(f\"F1 score on the test set (AdaBoost): {f1_custom_adaboost}\")"
   ]
  },
  {
   "cell_type": "code",
   "execution_count": 31,
   "id": "2ca3eade",
   "metadata": {},
   "outputs": [
    {
     "name": "stdout",
     "output_type": "stream",
     "text": [
      "Confusion Matrix (AdaBoost):\n",
      "[[1640  112]\n",
      " [ 161 1576]]\n"
     ]
    }
   ],
   "source": [
    "# Create a confusion matrix\n",
    "cm_custom_adaboost = confusion_matrix(y_test_custom, y_predicted_custom_adaboost)\n",
    "print(\"Confusion Matrix (AdaBoost):\")\n",
    "print(cm_custom_adaboost)"
   ]
  },
  {
   "cell_type": "code",
   "execution_count": 32,
   "id": "8cfd8f06",
   "metadata": {},
   "outputs": [
    {
     "data": {
      "image/png": "[encoded data removed]",
      "text/plain": [
       "<Figure size 1000x700 with 2 Axes>"
      ]
     },
     "metadata": {},
     "output_type": "display_data"
    }
   ],
   "source": [
    "# Visualize the confusion matrix\n",
    "plt.figure(figsize=(10,7))\n",
    "sns.heatmap(cm_custom_adaboost, annot=True, fmt='g')\n",
    "plt.xlabel('Predicted')\n",
    "plt.ylabel('Truth')\n",
    "plt.show()"
   ]
  },
  {
   "cell_type": "markdown",
   "id": "51175e61",
   "metadata": {},
   "source": [
    "# Gradient Boost "
   ]
  },
  {
   "cell_type": "markdown",
   "id": "37b4445b",
   "metadata": {},
   "source": [
    "## calling Libraries "
   ]
  },
  {
   "cell_type": "code",
   "execution_count": 33,
   "id": "e56fee93",
   "metadata": {},
   "outputs": [],
   "source": [
    "from sklearn.ensemble import GradientBoostingClassifier"
   ]
  },
  {
   "cell_type": "code",
   "execution_count": 34,
   "id": "d98d7699",
   "metadata": {},
   "outputs": [
    {
     "data": {
      "text/html": [
       "<div>\n",
       "<style scoped>\n",
       "    .dataframe tbody tr th:only-of-type {\n",
       "        vertical-align: middle;\n",
       "    }\n",
       "\n",
       "    .dataframe tbody tr th {\n",
       "        vertical-align: top;\n",
       "    }\n",
       "\n",
       "    .dataframe thead th {\n",
       "        text-align: right;\n",
       "    }\n",
       "</style>\n",
       "<table border=\"1\" class=\"dataframe\">\n",
       "  <thead>\n",
       "    <tr style=\"text-align: right;\">\n",
       "      <th></th>\n",
       "      <th>SIZE</th>\n",
       "      <th>DISTANCE</th>\n",
       "      <th>DESIBEL</th>\n",
       "      <th>AIRFLOW</th>\n",
       "      <th>FREQUENCY</th>\n",
       "      <th>STATUS</th>\n",
       "      <th>FUEL_gasoline</th>\n",
       "      <th>FUEL_kerosene</th>\n",
       "      <th>FUEL_lpg</th>\n",
       "      <th>FUEL_thinner</th>\n",
       "    </tr>\n",
       "  </thead>\n",
       "  <tbody>\n",
       "    <tr>\n",
       "      <th>0</th>\n",
       "      <td>1</td>\n",
       "      <td>10</td>\n",
       "      <td>96</td>\n",
       "      <td>0.0</td>\n",
       "      <td>75</td>\n",
       "      <td>0</td>\n",
       "      <td>1</td>\n",
       "      <td>0</td>\n",
       "      <td>0</td>\n",
       "      <td>0</td>\n",
       "    </tr>\n",
       "    <tr>\n",
       "      <th>1</th>\n",
       "      <td>1</td>\n",
       "      <td>10</td>\n",
       "      <td>96</td>\n",
       "      <td>0.0</td>\n",
       "      <td>72</td>\n",
       "      <td>1</td>\n",
       "      <td>1</td>\n",
       "      <td>0</td>\n",
       "      <td>0</td>\n",
       "      <td>0</td>\n",
       "    </tr>\n",
       "    <tr>\n",
       "      <th>2</th>\n",
       "      <td>1</td>\n",
       "      <td>10</td>\n",
       "      <td>96</td>\n",
       "      <td>2.6</td>\n",
       "      <td>70</td>\n",
       "      <td>1</td>\n",
       "      <td>1</td>\n",
       "      <td>0</td>\n",
       "      <td>0</td>\n",
       "      <td>0</td>\n",
       "    </tr>\n",
       "    <tr>\n",
       "      <th>3</th>\n",
       "      <td>1</td>\n",
       "      <td>10</td>\n",
       "      <td>96</td>\n",
       "      <td>3.2</td>\n",
       "      <td>68</td>\n",
       "      <td>1</td>\n",
       "      <td>1</td>\n",
       "      <td>0</td>\n",
       "      <td>0</td>\n",
       "      <td>0</td>\n",
       "    </tr>\n",
       "    <tr>\n",
       "      <th>4</th>\n",
       "      <td>1</td>\n",
       "      <td>10</td>\n",
       "      <td>109</td>\n",
       "      <td>4.5</td>\n",
       "      <td>67</td>\n",
       "      <td>1</td>\n",
       "      <td>1</td>\n",
       "      <td>0</td>\n",
       "      <td>0</td>\n",
       "      <td>0</td>\n",
       "    </tr>\n",
       "    <tr>\n",
       "      <th>...</th>\n",
       "      <td>...</td>\n",
       "      <td>...</td>\n",
       "      <td>...</td>\n",
       "      <td>...</td>\n",
       "      <td>...</td>\n",
       "      <td>...</td>\n",
       "      <td>...</td>\n",
       "      <td>...</td>\n",
       "      <td>...</td>\n",
       "      <td>...</td>\n",
       "    </tr>\n",
       "    <tr>\n",
       "      <th>17437</th>\n",
       "      <td>7</td>\n",
       "      <td>190</td>\n",
       "      <td>86</td>\n",
       "      <td>2.2</td>\n",
       "      <td>5</td>\n",
       "      <td>0</td>\n",
       "      <td>0</td>\n",
       "      <td>0</td>\n",
       "      <td>1</td>\n",
       "      <td>0</td>\n",
       "    </tr>\n",
       "    <tr>\n",
       "      <th>17438</th>\n",
       "      <td>7</td>\n",
       "      <td>190</td>\n",
       "      <td>84</td>\n",
       "      <td>2.0</td>\n",
       "      <td>4</td>\n",
       "      <td>0</td>\n",
       "      <td>0</td>\n",
       "      <td>0</td>\n",
       "      <td>1</td>\n",
       "      <td>0</td>\n",
       "    </tr>\n",
       "    <tr>\n",
       "      <th>17439</th>\n",
       "      <td>7</td>\n",
       "      <td>190</td>\n",
       "      <td>80</td>\n",
       "      <td>1.5</td>\n",
       "      <td>3</td>\n",
       "      <td>0</td>\n",
       "      <td>0</td>\n",
       "      <td>0</td>\n",
       "      <td>1</td>\n",
       "      <td>0</td>\n",
       "    </tr>\n",
       "    <tr>\n",
       "      <th>17440</th>\n",
       "      <td>7</td>\n",
       "      <td>190</td>\n",
       "      <td>76</td>\n",
       "      <td>0.4</td>\n",
       "      <td>2</td>\n",
       "      <td>0</td>\n",
       "      <td>0</td>\n",
       "      <td>0</td>\n",
       "      <td>1</td>\n",
       "      <td>0</td>\n",
       "    </tr>\n",
       "    <tr>\n",
       "      <th>17441</th>\n",
       "      <td>7</td>\n",
       "      <td>190</td>\n",
       "      <td>72</td>\n",
       "      <td>0.0</td>\n",
       "      <td>1</td>\n",
       "      <td>0</td>\n",
       "      <td>0</td>\n",
       "      <td>0</td>\n",
       "      <td>1</td>\n",
       "      <td>0</td>\n",
       "    </tr>\n",
       "  </tbody>\n",
       "</table>\n",
       "<p>17442 rows × 10 columns</p>\n",
       "</div>"
      ],
      "text/plain": [
       "       SIZE  DISTANCE  DESIBEL  AIRFLOW  FREQUENCY  STATUS  FUEL_gasoline  \\\n",
       "0         1        10       96      0.0         75       0              1   \n",
       "1         1        10       96      0.0         72       1              1   \n",
       "2         1        10       96      2.6         70       1              1   \n",
       "3         1        10       96      3.2         68       1              1   \n",
       "4         1        10      109      4.5         67       1              1   \n",
       "...     ...       ...      ...      ...        ...     ...            ...   \n",
       "17437     7       190       86      2.2          5       0              0   \n",
       "17438     7       190       84      2.0          4       0              0   \n",
       "17439     7       190       80      1.5          3       0              0   \n",
       "17440     7       190       76      0.4          2       0              0   \n",
       "17441     7       190       72      0.0          1       0              0   \n",
       "\n",
       "       FUEL_kerosene  FUEL_lpg  FUEL_thinner  \n",
       "0                  0         0             0  \n",
       "1                  0         0             0  \n",
       "2                  0         0             0  \n",
       "3                  0         0             0  \n",
       "4                  0         0             0  \n",
       "...              ...       ...           ...  \n",
       "17437              0         1             0  \n",
       "17438              0         1             0  \n",
       "17439              0         1             0  \n",
       "17440              0         1             0  \n",
       "17441              0         1             0  \n",
       "\n",
       "[17442 rows x 10 columns]"
      ]
     },
     "execution_count": 34,
     "metadata": {},
     "output_type": "execute_result"
    }
   ],
   "source": [
    "data"
   ]
  },
  {
   "cell_type": "code",
   "execution_count": 35,
   "id": "a046ff5e",
   "metadata": {},
   "outputs": [],
   "source": [
    "# Create a Gradient Boosting classifier\n",
    "model_custom_gradient_boost = GradientBoostingClassifier(n_estimators=20)"
   ]
  },
  {
   "cell_type": "code",
   "execution_count": 36,
   "id": "cfe97801",
   "metadata": {},
   "outputs": [
    {
     "data": {
      "text/plain": [
       "GradientBoostingClassifier(n_estimators=20)"
      ]
     },
     "execution_count": 36,
     "metadata": {},
     "output_type": "execute_result"
    }
   ],
   "source": [
    "# Train the model\n",
    "model_custom_gradient_boost.fit(X_train_custom, y_train_custom)"
   ]
  },
  {
   "cell_type": "code",
   "execution_count": 37,
   "id": "9f946d3d",
   "metadata": {},
   "outputs": [],
   "source": [
    "# Make predictions on the test set\n",
    "y_predicted_custom_gradient_boost = model_custom_gradient_boost.predict(X_test_custom)"
   ]
  },
  {
   "cell_type": "code",
   "execution_count": 38,
   "id": "e9555ce5",
   "metadata": {},
   "outputs": [],
   "source": [
    "# Evaluate the model\n",
    "accuracy_custom_gradient_boost = accuracy_score(y_test_custom, y_predicted_custom_gradient_boost)\n",
    "precision_custom_gradient_boost = precision_score(y_test_custom, y_predicted_custom_gradient_boost, average='weighted')\n",
    "recall_custom_gradient_boost = recall_score(y_test_custom, y_predicted_custom_gradient_boost, average='weighted')\n",
    "f1_custom_gradient_boost = f1_score(y_test_custom, y_predicted_custom_gradient_boost, average='weighted')"
   ]
  },
  {
   "cell_type": "code",
   "execution_count": 39,
   "id": "3d672525",
   "metadata": {},
   "outputs": [
    {
     "name": "stdout",
     "output_type": "stream",
     "text": [
      "Accuracy on the test set (Gradient Boosting): 0.8905130409859559\n",
      "Precision on the test set (Gradient Boosting): 0.8909594710717396\n",
      "Recall on the test set (Gradient Boosting): 0.8905130409859559\n",
      "F1 Score on the test set (Gradient Boosting): 0.8904725485694749\n"
     ]
    }
   ],
   "source": [
    "# Print the evaluation metrics\n",
    "print(f\"Accuracy on the test set (Gradient Boosting): {accuracy_custom_gradient_boost}\")\n",
    "print(f\"Precision on the test set (Gradient Boosting): {precision_custom_gradient_boost}\")\n",
    "print(f\"Recall on the test set (Gradient Boosting): {recall_custom_gradient_boost}\")\n",
    "print(f\"F1 Score on the test set (Gradient Boosting): {f1_custom_gradient_boost}\")"
   ]
  },
  {
   "cell_type": "code",
   "execution_count": 40,
   "id": "746130ea",
   "metadata": {},
   "outputs": [
    {
     "name": "stdout",
     "output_type": "stream",
     "text": [
      "Confusion Matrix (Gradient Boosting):\n",
      "[[1591  161]\n",
      " [ 221 1516]]\n"
     ]
    }
   ],
   "source": [
    "# Create a confusion matrix\n",
    "cm_custom_gradient_boost = confusion_matrix(y_test_custom, y_predicted_custom_gradient_boost)\n",
    "print(\"Confusion Matrix (Gradient Boosting):\")\n",
    "print(cm_custom_gradient_boost)"
   ]
  },
  {
   "cell_type": "code",
   "execution_count": 41,
   "id": "d5329a71",
   "metadata": {},
   "outputs": [
    {
     "data": {
      "image/png": "[encoded data removed]",
      "text/plain": [
       "<Figure size 1000x700 with 2 Axes>"
      ]
     },
     "metadata": {},
     "output_type": "display_data"
    }
   ],
   "source": [
    "# Visualize the confusion matrix\n",
    "plt.figure(figsize=(10, 7))\n",
    "sns.heatmap(cm_custom_gradient_boost, annot=True, fmt='g')\n",
    "plt.xlabel('Predicted')\n",
    "plt.ylabel('Truth')\n",
    "plt.show()"
   ]
  },
  {
   "cell_type": "code",
   "execution_count": 42,
   "id": "9fbf1d0b",
   "metadata": {},
   "outputs": [],
   "source": [
    "from sklearn.ensemble import RandomForestClassifier, GradientBoostingClassifier, AdaBoostClassifier\n",
    "from xgboost import XGBClassifier\n",
    "from sklearn.metrics import accuracy_score, precision_score, recall_score, f1_score, confusion_matrix"
   ]
  },
  {
   "cell_type": "code",
   "execution_count": 43,
   "id": "02bbbcdc",
   "metadata": {},
   "outputs": [
    {
     "name": "stdout",
     "output_type": "stream",
     "text": [
      "               Model  Accuracy  Precision    Recall  F1 Score\n",
      "0      Random Forest  0.967039   0.967073  0.967039  0.967038\n",
      "1           AdaBoost  0.921754   0.922078  0.921754  0.921734\n",
      "2  Gradient Boosting  0.890513   0.890959  0.890513  0.890473\n",
      "3            XGBoost  0.961020   0.961049  0.961020  0.961019\n"
     ]
    }
   ],
   "source": [
    "# Create a DataFrame to store the results\n",
    "results = pd.DataFrame({\n",
    "    'Model': ['Random Forest', 'AdaBoost', 'Gradient Boosting', 'XGBoost'],\n",
    "    'Accuracy': [accuracy_custom_rf, accuracy_custom_adaboost, accuracy_custom_gradient_boost, accuracy_custom_xgb],\n",
    "    'Precision': [precision_custom_rf, precision_custom_adaboost, precision_custom_gradient_boost, precision_custom_xgb],\n",
    "    'Recall': [recall_custom_rf, recall_custom_adaboost, recall_custom_gradient_boost, recall_custom_xgb],\n",
    "    'F1 Score': [f1_custom_rf, f1_custom_adaboost, f1_custom_gradient_boost, f1_custom_xgb]\n",
    "})\n",
    "\n",
    "# Display the results\n",
    "print(results)"
   ]
  },
  {
   "cell_type": "code",
   "execution_count": 44,
   "id": "7063313b",
   "metadata": {},
   "outputs": [
    {
     "data": {
      "image/png": "[encoded data removed]",
      "text/plain": [
       "<Figure size 1000x600 with 1 Axes>"
      ]
     },
     "metadata": {},
     "output_type": "display_data"
    }
   ],
   "source": [
    "# Visualize the results using a bar plot\n",
    "plt.figure(figsize=(10, 6))\n",
    "sns.barplot(x='Model', y='Accuracy', data=results, palette='viridis')\n",
    "plt.title('Model Comparison - Accuracy')\n",
    "plt.show()"
   ]
  },
  {
   "cell_type": "code",
   "execution_count": 45,
   "id": "12b31bb6",
   "metadata": {},
   "outputs": [],
   "source": [
    "from sklearn.metrics import roc_curve, auc\n",
    "import matplotlib.pyplot as plt\n",
    "\n",
    "# Calculate ROC curve for each model\n",
    "fpr_rf, tpr_rf, _ = roc_curve(y_test_custom, model_custom_rf.predict_proba(X_test_custom)[:, 1])\n",
    "fpr_adaboost, tpr_adaboost, _ = roc_curve(y_test_custom, model_custom_adaboost.predict_proba(X_test_custom)[:, 1])\n",
    "fpr_gradient_boost, tpr_gradient_boost, _ = roc_curve(y_test_custom, model_custom_gradient_boost.predict_proba(X_test_custom)[:, 1])\n",
    "fpr_xgb, tpr_xgb, _ = roc_curve(y_test_custom, model_custom_xgb.predict_proba(X_test_custom)[:, 1])\n",
    "\n",
    "# Calculate AUC (Area Under the Curve) for each model\n",
    "roc_auc_rf = auc(fpr_rf, tpr_rf)\n",
    "roc_auc_adaboost = auc(fpr_adaboost, tpr_adaboost)\n",
    "roc_auc_gradient_boost = auc(fpr_gradient_boost, tpr_gradient_boost)\n",
    "roc_auc_xgb = auc(fpr_xgb, tpr_xgb)"
   ]
  },
  {
   "cell_type": "code",
   "execution_count": 46,
   "id": "23b122a8",
   "metadata": {},
   "outputs": [
    {
     "data": {
      "image/png": "[encoded data removed]",
      "text/plain": [
       "<Figure size 1000x700 with 1 Axes>"
      ]
     },
     "metadata": {},
     "output_type": "display_data"
    }
   ],
   "source": [
    "# Plot ROC curves\n",
    "plt.figure(figsize=(10, 7))\n",
    "plt.plot(fpr_rf, tpr_rf, label=f'Random Forest (AUC = {roc_auc_rf:.2f})')\n",
    "plt.plot(fpr_adaboost, tpr_adaboost, label=f'AdaBoost (AUC = {roc_auc_adaboost:.2f})')\n",
    "plt.plot(fpr_gradient_boost, tpr_gradient_boost, label=f'Gradient Boosting (AUC = {roc_auc_gradient_boost:.2f})')\n",
    "plt.plot(fpr_xgb, tpr_xgb, label=f'XGBoost (AUC = {roc_auc_xgb:.2f})')\n",
    "\n",
    "plt.plot([0, 1], [0, 1], linestyle='--', color='gray', label='Random Guess')\n",
    "\n",
    "plt.title('ROC Curve Comparison')\n",
    "plt.xlabel('False Positive Rate')\n",
    "plt.ylabel('True Positive Rate')\n",
    "plt.legend()\n",
    "plt.show()"
   ]
  },
  {
   "cell_type": "code",
   "execution_count": 47,
   "id": "15bc84ce",
   "metadata": {},
   "outputs": [
    {
     "data": {
      "image/png": "[encoded data removed]",
      "text/plain": [
       "<Figure size 1200x1000 with 4 Axes>"
      ]
     },
     "metadata": {},
     "output_type": "display_data"
    }
   ],
   "source": [
    "import numpy as np\n",
    "import matplotlib.pyplot as plt\n",
    "\n",
    "#  already trained and stored your models as:\n",
    "# model_custom_rf, model_custom_xgb, model_custom_adaboost, model_custom_gradient_boost\n",
    "\n",
    "# Extract feature importance for each model\n",
    "rf_importance = model_custom_rf.feature_importances_\n",
    "xgb_importance = model_custom_xgb.feature_importances_\n",
    "ada_importance = model_custom_adaboost.feature_importances_\n",
    "gb_importance = model_custom_gradient_boost.feature_importances_\n",
    "\n",
    "# Plotting\n",
    "fig, axes = plt.subplots(2, 2, figsize=(12, 10))\n",
    "fig.suptitle('Feature Importance for Different Classifiers')\n",
    "\n",
    "#  features are stored in X_custom.columns\n",
    "features = X_custom.columns\n",
    "\n",
    "# Random Forest\n",
    "indices_rf = np.argsort(rf_importance)\n",
    "axes[0, 0].barh(range(len(indices_rf)), rf_importance[indices_rf], color='b', align='center')\n",
    "axes[0, 0].set_yticks(range(len(indices_rf)), [features[i] for i in indices_rf])\n",
    "axes[0, 0].set_xlabel('Relative Importance')\n",
    "axes[0, 0].set_title('Random Forest')\n",
    "\n",
    "# XGBoost\n",
    "indices_xgb = np.argsort(xgb_importance)\n",
    "axes[0, 1].barh(range(len(indices_xgb)), xgb_importance[indices_xgb], color='g', align='center')\n",
    "axes[0, 1].set_yticks(range(len(indices_xgb)), [features[i] for i in indices_xgb])\n",
    "axes[0, 1].set_xlabel('Relative Importance')\n",
    "axes[0, 1].set_title('XG Boost')\n",
    "\n",
    "# ADA Boost\n",
    "indices_ada = np.argsort(ada_importance)\n",
    "axes[1, 0].barh(range(len(indices_ada)), ada_importance[indices_ada], color='r', align='center')\n",
    "axes[1, 0].set_yticks(range(len(indices_ada)), [features[i] for i in indices_ada])\n",
    "axes[1, 0].set_xlabel('Relative Importance')\n",
    "axes[1, 0].set_title('ADA Boost')\n",
    "\n",
    "# Gradient Boost\n",
    "indices_gb = np.argsort(gb_importance)\n",
    "axes[1, 1].barh(range(len(indices_gb)), gb_importance[indices_gb], color='c', align='center')\n",
    "axes[1, 1].set_yticks(range(len(indices_gb)), [features[i] for i in indices_gb])\n",
    "axes[1, 1].set_xlabel('Relative Importance')\n",
    "axes[1, 1].set_title('Gradient Boost')\n",
    "\n",
    "plt.tight_layout(rect=[0, 0.03, 1, 0.95])\n",
    "plt.show()\n"
   ]
  }
 ],
 "metadata": {
  "kernelspec": {
   "display_name": "Python 3 (ipykernel)",
   "language": "python",
   "name": "python3"
  },
  "language_info": {
   "codemirror_mode": {
    "name": "ipython",
    "version": 3
   },
   "file_extension": ".py",
   "mimetype": "text/x-python",
   "name": "python",
   "nbconvert_exporter": "python",
   "pygments_lexer": "ipython3",
   "version": "3.9.13"
  }
 },
 "nbformat": 4,
 "nbformat_minor": 5
}
